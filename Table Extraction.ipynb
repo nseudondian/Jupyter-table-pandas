{
 "cells": [
  {
   "cell_type": "code",
   "execution_count": 1,
   "id": "98ece09e",
   "metadata": {},
   "outputs": [
    {
     "name": "stdout",
     "output_type": "stream",
     "text": [
      "Requirement already satisfied: pandas in c:\\users\\nseab\\anaconda3\\lib\\site-packages (1.3.4)Note: you may need to restart the kernel to use updated packages.\n",
      "Requirement already satisfied: pytz>=2017.3 in c:\\users\\nseab\\anaconda3\\lib\\site-packages (from pandas) (2021.3)\n",
      "Requirement already satisfied: python-dateutil>=2.7.3 in c:\\users\\nseab\\anaconda3\\lib\\site-packages (from pandas) (2.8.2)\n",
      "Requirement already satisfied: numpy>=1.17.3 in c:\\users\\nseab\\anaconda3\\lib\\site-packages (from pandas) (1.20.3)\n",
      "Requirement already satisfied: six>=1.5 in c:\\users\\nseab\\anaconda3\\lib\\site-packages (from python-dateutil>=2.7.3->pandas) (1.16.0)\n",
      "\n"
     ]
    }
   ],
   "source": [
    "pip install pandas"
   ]
  },
  {
   "cell_type": "code",
   "execution_count": 4,
   "id": "6b59db3e",
   "metadata": {},
   "outputs": [],
   "source": [
    "import pandas as pd\n"
   ]
  },
  {
   "cell_type": "code",
   "execution_count": 5,
   "id": "9f8e07db",
   "metadata": {},
   "outputs": [],
   "source": [
    "sims = pd.read_html(\"https://en.wikipedia.org/wiki/The_Sims_4\")"
   ]
  },
  {
   "cell_type": "code",
   "execution_count": 6,
   "id": "8dd5d525",
   "metadata": {},
   "outputs": [
    {
     "data": {
      "text/plain": [
       "13"
      ]
     },
     "execution_count": 6,
     "metadata": {},
     "output_type": "execute_result"
    }
   ],
   "source": [
    "len(sims)"
   ]
  },
  {
   "cell_type": "code",
   "execution_count": 7,
   "id": "0712d7b4",
   "metadata": {},
   "outputs": [
    {
     "data": {
      "text/html": [
       "<div>\n",
       "<style scoped>\n",
       "    .dataframe tbody tr th:only-of-type {\n",
       "        vertical-align: middle;\n",
       "    }\n",
       "\n",
       "    .dataframe tbody tr th {\n",
       "        vertical-align: top;\n",
       "    }\n",
       "\n",
       "    .dataframe thead th {\n",
       "        text-align: right;\n",
       "    }\n",
       "</style>\n",
       "<table border=\"1\" class=\"dataframe\">\n",
       "  <thead>\n",
       "    <tr style=\"text-align: right;\">\n",
       "      <th></th>\n",
       "      <th>Aggregator</th>\n",
       "      <th>Score</th>\n",
       "    </tr>\n",
       "  </thead>\n",
       "  <tbody>\n",
       "    <tr>\n",
       "      <th>0</th>\n",
       "      <td>Metacritic</td>\n",
       "      <td>PC: 70/100[73]PS4: 66/100[74]XONE: 66/100[75]</td>\n",
       "    </tr>\n",
       "  </tbody>\n",
       "</table>\n",
       "</div>"
      ],
      "text/plain": [
       "   Aggregator                                          Score\n",
       "0  Metacritic  PC: 70/100[73]PS4: 66/100[74]XONE: 66/100[75]"
      ]
     },
     "execution_count": 7,
     "metadata": {},
     "output_type": "execute_result"
    }
   ],
   "source": [
    "sims[1]"
   ]
  },
  {
   "cell_type": "code",
   "execution_count": 8,
   "id": "aa7f3258",
   "metadata": {},
   "outputs": [
    {
     "data": {
      "text/html": [
       "<div>\n",
       "<style scoped>\n",
       "    .dataframe tbody tr th:only-of-type {\n",
       "        vertical-align: middle;\n",
       "    }\n",
       "\n",
       "    .dataframe tbody tr th {\n",
       "        vertical-align: top;\n",
       "    }\n",
       "\n",
       "    .dataframe thead th {\n",
       "        text-align: right;\n",
       "    }\n",
       "</style>\n",
       "<table border=\"1\" class=\"dataframe\">\n",
       "  <thead>\n",
       "    <tr style=\"text-align: right;\">\n",
       "      <th></th>\n",
       "      <th>Name</th>\n",
       "      <th>Release date</th>\n",
       "    </tr>\n",
       "  </thead>\n",
       "  <tbody>\n",
       "    <tr>\n",
       "      <th>0</th>\n",
       "      <td>Outdoor Retreat</td>\n",
       "      <td>PC:WW: January 13, 2015 Console:WW: December 4...</td>\n",
       "    </tr>\n",
       "    <tr>\n",
       "      <th>1</th>\n",
       "      <td>Spa Day</td>\n",
       "      <td>PC:WW: July 14, 2015 Console:WW: April 18, 2019</td>\n",
       "    </tr>\n",
       "    <tr>\n",
       "      <th>2</th>\n",
       "      <td>Dine Out</td>\n",
       "      <td>PC:WW: June 7, 2016 Console:WW: January 8, 2018</td>\n",
       "    </tr>\n",
       "    <tr>\n",
       "      <th>3</th>\n",
       "      <td>Vampires</td>\n",
       "      <td>PC:WW: January 24, 2017 Console:WW: November 1...</td>\n",
       "    </tr>\n",
       "    <tr>\n",
       "      <th>4</th>\n",
       "      <td>Parenthood</td>\n",
       "      <td>PC:WW: May 30, 2017 Console:WW: June 19, 2018</td>\n",
       "    </tr>\n",
       "    <tr>\n",
       "      <th>5</th>\n",
       "      <td>Jungle Adventure</td>\n",
       "      <td>PC:WW: February 27, 2018 Console:WW: December ...</td>\n",
       "    </tr>\n",
       "    <tr>\n",
       "      <th>6</th>\n",
       "      <td>StrangerVille</td>\n",
       "      <td>PC: WW: February 26, 2019 Console:WW: May 14, ...</td>\n",
       "    </tr>\n",
       "    <tr>\n",
       "      <th>7</th>\n",
       "      <td>Realm of Magic</td>\n",
       "      <td>PC: WW: September 10, 2019 Console:WW: October...</td>\n",
       "    </tr>\n",
       "    <tr>\n",
       "      <th>8</th>\n",
       "      <td>Star Wars: Journey to Batuu</td>\n",
       "      <td>WW: September 8, 2020</td>\n",
       "    </tr>\n",
       "    <tr>\n",
       "      <th>9</th>\n",
       "      <td>Dream Home Decorator</td>\n",
       "      <td>WW: June 1, 2021</td>\n",
       "    </tr>\n",
       "    <tr>\n",
       "      <th>10</th>\n",
       "      <td>My Wedding Stories</td>\n",
       "      <td>WW: February 23, 2022</td>\n",
       "    </tr>\n",
       "    <tr>\n",
       "      <th>11</th>\n",
       "      <td>Werewolves</td>\n",
       "      <td>WW: June 16, 2022</td>\n",
       "    </tr>\n",
       "  </tbody>\n",
       "</table>\n",
       "</div>"
      ],
      "text/plain": [
       "                           Name  \\\n",
       "0               Outdoor Retreat   \n",
       "1                       Spa Day   \n",
       "2                      Dine Out   \n",
       "3                      Vampires   \n",
       "4                    Parenthood   \n",
       "5              Jungle Adventure   \n",
       "6                 StrangerVille   \n",
       "7                Realm of Magic   \n",
       "8   Star Wars: Journey to Batuu   \n",
       "9          Dream Home Decorator   \n",
       "10           My Wedding Stories   \n",
       "11                   Werewolves   \n",
       "\n",
       "                                         Release date  \n",
       "0   PC:WW: January 13, 2015 Console:WW: December 4...  \n",
       "1     PC:WW: July 14, 2015 Console:WW: April 18, 2019  \n",
       "2     PC:WW: June 7, 2016 Console:WW: January 8, 2018  \n",
       "3   PC:WW: January 24, 2017 Console:WW: November 1...  \n",
       "4       PC:WW: May 30, 2017 Console:WW: June 19, 2018  \n",
       "5   PC:WW: February 27, 2018 Console:WW: December ...  \n",
       "6   PC: WW: February 26, 2019 Console:WW: May 14, ...  \n",
       "7   PC: WW: September 10, 2019 Console:WW: October...  \n",
       "8                               WW: September 8, 2020  \n",
       "9                                    WW: June 1, 2021  \n",
       "10                              WW: February 23, 2022  \n",
       "11                                  WW: June 16, 2022  "
      ]
     },
     "execution_count": 8,
     "metadata": {},
     "output_type": "execute_result"
    }
   ],
   "source": [
    "sims[5]"
   ]
  },
  {
   "cell_type": "code",
   "execution_count": null,
   "id": "2a5630b0",
   "metadata": {},
   "outputs": [],
   "source": []
  }
 ],
 "metadata": {
  "kernelspec": {
   "display_name": "Python 3 (ipykernel)",
   "language": "python",
   "name": "python3"
  },
  "language_info": {
   "codemirror_mode": {
    "name": "ipython",
    "version": 3
   },
   "file_extension": ".py",
   "mimetype": "text/x-python",
   "name": "python",
   "nbconvert_exporter": "python",
   "pygments_lexer": "ipython3",
   "version": "3.9.7"
  }
 },
 "nbformat": 4,
 "nbformat_minor": 5
}
